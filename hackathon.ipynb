{
 "cells": [
  {
   "cell_type": "code",
   "execution_count": 1,
   "id": "5ab4c63f",
   "metadata": {},
   "outputs": [],
   "source": [
    "import heapq"
   ]
  },
  {
   "cell_type": "code",
   "execution_count": null,
   "id": "bb0769ff",
   "metadata": {},
   "outputs": [
    {
     "name": "stdout",
     "output_type": "stream",
     "text": [
      "[{'id': 2, 'likes': 200, 'recency': 2}, {'id': 3, 'likes': 150, 'recency': 1}]\n"
     ]
    }
   ],
   "source": [
    "#1. Social Media Feed \"Top K\" Posts\n",
    "def top_k_posts(posts, get_relevance, K):\n",
    "    relevance_cache = {}\n",
    "    min_heap = []\n",
    "\n",
    "    for post in posts:\n",
    "        if post['id'] not in relevance_cache:\n",
    "            relevance_cache[post['id']] = get_relevance(post)\n",
    "        score = relevance_cache[post['id']]\n",
    "\n",
    "        if len(min_heap) < K:\n",
    "            heapq.heappush(min_heap, (score, post))\n",
    "        else:\n",
    "            if score > min_heap[0][0]:\n",
    "                heapq.heappushpop(min_heap, (score, post))\n",
    "\n",
    "    return [post for score, post in sorted(min_heap, reverse=True)]\n",
    "\n",
    "posts = [\n",
    "    {\"id\": 1, \"likes\": 120, \"recency\": 5},\n",
    "    {\"id\": 2, \"likes\": 200, \"recency\": 2},\n",
    "    {\"id\": 3, \"likes\": 150, \"recency\": 1},\n",
    "    {\"id\": 4, \"likes\": 80, \"recency\": 7}\n",
    "]\n",
    "\n",
    "def get_relevance(post):\n",
    "    return post[\"likes\"] * 0.7 + (10 - post[\"recency\"]) * 0.3\n",
    "\n",
    "top_posts = top_k_posts(posts, get_relevance, K=2)\n",
    "print(top_posts)"
   ]
  },
  {
   "cell_type": "code",
   "execution_count": null,
   "id": "45adca4b",
   "metadata": {},
   "outputs": [],
   "source": [
    "# 3. Ride-Sharing Driver Matching\n",
    "import math\n",
    "\n",
    "class RideSharingMatcher:\n",
    "    def __init__(self, drivers):\n",
    "\n",
    "        self.drivers = drivers\n",
    "\n",
    "    def haversine_distance(self, coord1, coord2):\n",
    "       \n",
    "        lat1, lon1 = coord1\n",
    "        lat2, lon2 = coord2\n",
    "        R = 6371  # Earth radius in km\n",
    "\n",
    "        phi1 = math.radians(lat1)\n",
    "        phi2 = math.radians(lat2)\n",
    "        d_phi = math.radians(lat2 - lat1)\n",
    "        d_lambda = math.radians(lon2 - lon1)\n",
    "\n",
    "        a = math.sin(d_phi / 2) ** 2 + math.cos(phi1) * math.cos(phi2) * math.sin(d_lambda / 2) ** 2\n",
    "        c = 2 * math.atan2(math.sqrt(a), math.sqrt(1 - a))\n",
    "\n",
    "        return R * c\n",
    "\n",
    "    def find_closest_drivers(self, rider_location, N):\n",
    "        max_heap = []\n",
    "        for driver_id, driver_location in self.drivers.items():\n",
    "            distance = self.haversine_distance(rider_location, driver_location)\n",
    "            if len(max_heap) < N:\n",
    "                heapq.heappush(max_heap, (-distance, driver_id))\n",
    "            else:\n",
    "                if -distance > max_heap[0][0]:\n",
    "                    heapq.heappushpop(max_heap, (-distance, driver_id))\n",
    "\n",
    "        return [driver_id for _, driver_id in sorted(max_heap, reverse=True)]\n",
    "    \n",
    "\n",
    "drivers = {\n",
    "    'driver1': (12.9716, 77.5946),\n",
    "    'driver2': (12.2958, 76.6394),\n",
    "    'driver3': (11.0168, 76.9558),\n",
    "    'driver4': (13.0827, 80.2707),\n",
    "    'driver5': (13.3392, 77.1130),\n",
    "}\n",
    "\n",
    "matcher = RideSharingMatcher(drivers)\n",
    "\n",
    "rider_location = (12.9716, 77.5946)  # Example: Bangalore\n",
    "closest_drivers = matcher.find_closest_drivers(rider_location, N=3)\n",
    "\n",
    "print(\"Closest Drivers:\", closest_drivers)\n",
    "\n",
    "\n"
   ]
  },
  {
   "cell_type": "code",
   "execution_count": null,
   "id": "7472749f",
   "metadata": {},
   "outputs": [
    {
     "name": "stdout",
     "output_type": "stream",
     "text": [
      "[5, 3]\n"
     ]
    }
   ],
   "source": [
    "#2. E-commerce Flash Sale Hot Items \n",
    "def top_k_items(items , K):\n",
    "    request_counts ={}\n",
    "    stock_levels ={}\n",
    "    min_heap = []\n",
    "\n",
    "    for item in items:\n",
    "        if item['id'] not in request_counts and item['id'] not in stock_levels:\n",
    "            request_counts[item['id']] = item['request_counts']\n",
    "            stock_levels[item['id']] = item['stock_levels']\n",
    "        \n",
    "\n",
    "        if len(min_heap) < K and item['stock_levels'] > 0:\n",
    "            heapq.heappush(min_heap, item['id'])\n",
    "        else:\n",
    "            if item['request_counts'] > request_counts[min_heap[0]]:\n",
    "                heapq.heappushpop(min_heap, item['id'])\n",
    "\n",
    "\n",
    "    return sorted(min_heap, reverse=True)\n",
    "\n",
    "items = [\n",
    "    {\"id\": 1, \"request_counts\": 12, \"stock_levels\": 5},\n",
    "    {\"id\": 2, \"request_counts\": 2, \"stock_levels\": 0},\n",
    "    {\"id\": 3, \"request_counts\": 15, \"stock_levels\": 30},\n",
    "    {\"id\": 4, \"request_counts\": 8, \"stock_levels\": 9},\n",
    "    {\"id\": 5, \"request_counts\": 20, \"stock_levels\": 40},\n",
    "\n",
    "    \n",
    "]\n",
    "\n",
    "\n",
    "top_items = top_k_items(items, K=2)\n",
    "print(top_items)"
   ]
  }
 ],
 "metadata": {
  "kernelspec": {
   "display_name": "Python 3",
   "language": "python",
   "name": "python3"
  },
  "language_info": {
   "codemirror_mode": {
    "name": "ipython",
    "version": 3
   },
   "file_extension": ".py",
   "mimetype": "text/x-python",
   "name": "python",
   "nbconvert_exporter": "python",
   "pygments_lexer": "ipython3",
   "version": "3.10.8"
  }
 },
 "nbformat": 4,
 "nbformat_minor": 5
}
